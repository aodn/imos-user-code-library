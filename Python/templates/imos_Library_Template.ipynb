{
 "cells": [
  {
   "cell_type": "markdown",
   "id": "b16dbdec-dd6d-4641-9970-f67348ba7bf9",
   "metadata": {},
   "source": [
    "\n",
    "# ENTER TITLE HERE  \n",
    "\n",
    "\n",
    "\n",
    "| | |  \n",
    "|---|---|  \n",
    "| Summary (a TL;DR) | | \n",
    "| Author:|   |\n",
    "| Edited:|   |\n",
    "| Affiliation:|  |\n",
    "| e-mail:|  |\n",
    "| Date of creation:|  |\n",
    "| Date of last update:|  |"
   ]
  },
  {
   "cell_type": "markdown",
   "id": "00a6b073-95aa-404f-a6ed-168040dc16fb",
   "metadata": {},
   "source": [
    "## Table of Contents\n",
    "#### [Background](#background-what)\n",
    "#### [Datasets](#datasets)\n",
    "#### [Required Packages](#required)\n",
    "\n",
    "Use the following as a guide to link the table of contents to the desired locations\n",
    "\n",
    "1. [Step by Step guide](#step-by-step)\n",
    "    - [I. Sub-heading to the original step](#sub-heading-1)\n",
    "2. [Second Step](#second-step)\n",
    "    - [1. Sub Heading 1](#second-step-sub)\n",
    "2. [Exercise](#exercise)\n",
    "\n",
    "#### [References](#references)"
   ]
  },
  {
   "cell_type": "markdown",
   "id": "bef7433b-247d-4ad6-b1d2-144c85198865",
   "metadata": {},
   "source": [
    "<a name=\"background-what\"></a>\n",
    "## Background\n",
    "### What is this example about?\n",
    "\n",
    "Breif description of science/product. In depth description of the use case, using references to illustrate (if needed). Indicate the expected output of this notebook (eg. a time series plot, a spatial aggregation of one variable, etc.) "
   ]
  },
  {
   "cell_type": "markdown",
   "id": "1f6a1f5f",
   "metadata": {},
   "source": []
  },
  {
   "cell_type": "markdown",
   "id": "56645fb2",
   "metadata": {},
   "source": [
    "## Datasets used in this notebook <a name=\"datasets\"></a>\n",
    "### What datasets are used in this example? Add the information to the table below:\n",
    "\n",
    "| Dataset name | Description | Metadata | THREDDS link | Cloud Optimised URL |\n",
    "| ----------- | ----------- | ----------- | ----------- | ----------- |\n",
    "| eg. IMOS Argo | Argo profile data from IMOS | [Portal](https://portal.aodn.org.au) | [THREDDS](https://thredds.aodn.org.au/thredds/catalog/IMOS/catalog.html) | [link to AWS ODP]() |\n",
    "\n",
    "Add more rows as needed.\n",
    "\n"
   ]
  },
  {
   "cell_type": "markdown",
   "id": "205f5278-af23-4dc3-9299-741b977ca7f1",
   "metadata": {
    "tags": []
   },
   "source": [
    "## Required Packages <a name=\"required\"></a>\n",
    "\n",
    "- Enter required packages here\n",
    "- Include the Python version used in this notebook\n",
    "- EG: Python==3.12.6\n",
    "- EG: xarray==2024.6.0\n",
    "- EG: zarr==2.17.0\n",
    "\n",
    "Provide a link to a requirements.txt file if possible.\n",
    "Provide instructions on how to load libraryes from requirements.txt file if possible.\n",
    "- EG: `pip install -r requirements.txt`\n",
    "- EG: `conda create --name myenv --file requirements.txt`\n",
    "- EG: `mamba create --name myenv --file requirements.txt`\n",
    "- EG: `conda activate myenv`\n"
   ]
  },
  {
   "cell_type": "markdown",
   "id": "virtual-projection",
   "metadata": {},
   "source": [
    "## 1. Step by Step guide <a name=\"step-by-step\"></a>\n",
    "\n",
    "Describe the step your taking in each section with links to products/data website if applicable. Please thoroughly comment your code so that users can understand what you are doing and why."
   ]
  },
  {
   "cell_type": "code",
   "execution_count": 24,
   "id": "6fb5a5bc-d91f-4214-af05-cf075a2b24ce",
   "metadata": {},
   "outputs": [],
   "source": [
    "## Enter code here"
   ]
  },
  {
   "cell_type": "markdown",
   "id": "threaded-strip",
   "metadata": {},
   "source": [
    "<a id=\"Present\"></a>\n",
    "#### I. Sub-heading to the original step <a name=\"sub-heading-1\"></a>"
   ]
  },
  {
   "cell_type": "code",
   "execution_count": 25,
   "id": "c8008699-a3a3-44bd-8606-4e02a20f6fdc",
   "metadata": {},
   "outputs": [],
   "source": [
    "## Enter code here"
   ]
  },
  {
   "cell_type": "markdown",
   "id": "banner-barcelona",
   "metadata": {},
   "source": [
    "## 2. Second Step <a name=\"second-step\"></a>\n"
   ]
  },
  {
   "cell_type": "code",
   "execution_count": 26,
   "id": "b396dd9b-771b-49f0-a109-85b327fe35be",
   "metadata": {},
   "outputs": [],
   "source": [
    "## Enter code here"
   ]
  },
  {
   "cell_type": "markdown",
   "id": "searching-nursing",
   "metadata": {},
   "source": [
    "\n",
    "#### I. Second Step sub-heading <a name=\"second-step-sub\"></a>\n"
   ]
  },
  {
   "cell_type": "code",
   "execution_count": 27,
   "id": "bbfedd0d-f0d7-4a55-847e-f5d7fecbe5af",
   "metadata": {},
   "outputs": [],
   "source": [
    "## Enter code here"
   ]
  },
  {
   "cell_type": "markdown",
   "id": "close-harbor",
   "metadata": {},
   "source": [
    "## 3. Exercise: <a name=\"exercise\"></a>\n",
    "\n",
    "Potential to provide a well-annotated code for the user to play with.\n"
   ]
  },
  {
   "cell_type": "code",
   "execution_count": 28,
   "id": "78895465-11b6-487b-802a-daee821eda9a",
   "metadata": {},
   "outputs": [],
   "source": [
    "## Enter code here"
   ]
  },
  {
   "cell_type": "markdown",
   "id": "3e3c81ca",
   "metadata": {},
   "source": [
    "-------------------\n",
    "\n",
    "## References <a name=\"references\"></a>\n",
    "\n",
    "- List any references used in the creation of this notebook\n",
    "- eg. papers, websites, other notebooks etc.\n",
    "- Include links where possible"
   ]
  }
 ],
 "metadata": {
  "kernelspec": {
   "display_name": "Python 3 (ipykernel)",
   "language": "python",
   "name": "python3"
  },
  "language_info": {
   "codemirror_mode": {
    "name": "ipython",
    "version": 3
   },
   "file_extension": ".py",
   "mimetype": "text/x-python",
   "name": "python",
   "nbconvert_exporter": "python",
   "pygments_lexer": "ipython3",
   "version": "3.12.3"
  }
 },
 "nbformat": 4,
 "nbformat_minor": 5
}
