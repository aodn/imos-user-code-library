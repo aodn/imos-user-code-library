{
 "cells": [
  {
   "cell_type": "markdown",
   "id": "b16dbdec-dd6d-4641-9970-f67348ba7bf9",
   "metadata": {},
   "source": [
    "# ENTER TITLE HERE\n",
    "\n",
    "|  |  |\n",
    "| ----------- | ----------- |\n",
    "| Author:|   |\n",
    "| Edited:|   |\n",
    "| Affiliation:|  |\n",
    "| e-mail:|  |\n",
    "| Date of creation:|  |\n",
    "| Date of last update:|  |"
   ]
  },
  {
   "cell_type": "markdown",
   "id": "00a6b073-95aa-404f-a6ed-168040dc16fb",
   "metadata": {},
   "source": [
    "## Table of Contents\n",
    "#### [Background](#background-what)\n",
    "#### [Required Packages](#required)\n",
    "\n",
    "Use the following as a guide to link the table of contents to the desired locations\n",
    "\n",
    "1. [Step by Step guide](#step-by-step)\n",
    "    - [I. Sub-heading to the original step](#sub-heading-1)\n",
    "2. [Second Step](#second-step)\n",
    "    - [1. Sub Heading 1](#second-step-sub)\n",
    "2. [Exercise](#exercise)"
   ]
  },
  {
   "cell_type": "markdown",
   "id": "bef7433b-247d-4ad6-b1d2-144c85198865",
   "metadata": {},
   "source": [
    "<a name=\"background-what\"></a>\n",
    "## Background\n",
    "### What is XXX Dataset\n",
    "\n",
    "Breif description of science/product. In depth descriptio of Data used, how they are accessed, intented outcome etc."
   ]
  },
  {
   "cell_type": "markdown",
   "id": "205f5278-af23-4dc3-9299-741b977ca7f1",
   "metadata": {
    "tags": []
   },
   "source": [
    "### Required Packages <a name=\"required\"></a>\n",
    "\n",
    "- Enter required packages here\n",
    "- can include version requirement if required\n",
    "- EG:\n",
    "- matplotlib - 3.8.4\n"
   ]
  },
  {
   "cell_type": "code",
   "execution_count": 1,
   "id": "simple-harassment",
   "metadata": {},
   "outputs": [],
   "source": [
    "# Run this code to install the packages\n",
    "# !pip install xx, yy, zz, vvv==00.00.00"
   ]
  },
  {
   "cell_type": "code",
   "execution_count": 2,
   "id": "a9b0c46f",
   "metadata": {},
   "outputs": [],
   "source": [
    "# IMPORT ALL PACKAGES REQUIRED AT THE START\n",
    "# Place imports here\n",
    "# %matplotlib widget\n",
    "# import\n",
    "# import xxx as yy\n",
    "# from xxx import xx, xx, xx"
   ]
  },
  {
   "cell_type": "markdown",
   "id": "virtual-projection",
   "metadata": {},
   "source": [
    "## 1. Step by Step guide <a name=\"step-by-step\"></a>\n",
    "\n",
    "Describe the step your taking in each section with links to products/data website if applicable."
   ]
  },
  {
   "cell_type": "code",
   "execution_count": 3,
   "id": "6fb5a5bc-d91f-4214-af05-cf075a2b24ce",
   "metadata": {},
   "outputs": [],
   "source": [
    "## Enter code here"
   ]
  },
  {
   "cell_type": "markdown",
   "id": "threaded-strip",
   "metadata": {},
   "source": [
    "<a id=\"Present\"></a>\n",
    "#### I. Sub-heading to the original step <a name=\"sub-heading-1\"></a>"
   ]
  },
  {
   "cell_type": "code",
   "execution_count": 4,
   "id": "c8008699-a3a3-44bd-8606-4e02a20f6fdc",
   "metadata": {},
   "outputs": [],
   "source": [
    "## Enter code here"
   ]
  },
  {
   "cell_type": "markdown",
   "id": "banner-barcelona",
   "metadata": {},
   "source": [
    "## 2. Second Step <a name=\"second-step\"></a>\n"
   ]
  },
  {
   "cell_type": "code",
   "execution_count": 5,
   "id": "b396dd9b-771b-49f0-a109-85b327fe35be",
   "metadata": {},
   "outputs": [],
   "source": [
    "## Enter code here"
   ]
  },
  {
   "cell_type": "markdown",
   "id": "searching-nursing",
   "metadata": {},
   "source": [
    "\n",
    "#### I. Second Step sub-heading <a name=\"second-step-sub\"></a>\n"
   ]
  },
  {
   "cell_type": "code",
   "execution_count": 6,
   "id": "bbfedd0d-f0d7-4a55-847e-f5d7fecbe5af",
   "metadata": {},
   "outputs": [],
   "source": [
    "## Enter code here"
   ]
  },
  {
   "cell_type": "markdown",
   "id": "close-harbor",
   "metadata": {},
   "source": [
    "## 3. Exercise: <a name=\"exercise\"></a>\n",
    "\n",
    "Potential to provide a code for the user to play with.\n"
   ]
  },
  {
   "cell_type": "code",
   "execution_count": 7,
   "id": "78895465-11b6-487b-802a-daee821eda9a",
   "metadata": {},
   "outputs": [],
   "source": [
    "## Enter code here"
   ]
  },
  {
   "cell_type": "code",
   "execution_count": null,
   "id": "4e6a0a7c-5e6f-4739-bd53-266056c04211",
   "metadata": {},
   "outputs": [],
   "source": []
  },
  {
   "cell_type": "code",
   "execution_count": null,
   "id": "60947a1b-c471-411f-b834-8238d130dee7",
   "metadata": {},
   "outputs": [],
   "source": []
  }
 ],
 "metadata": {
  "kernelspec": {
   "display_name": "Python 3 (ipykernel)",
   "language": "python",
   "name": "python3"
  },
  "language_info": {
   "codemirror_mode": {
    "name": "ipython",
    "version": 3
   },
   "file_extension": ".py",
   "mimetype": "text/x-python",
   "name": "python",
   "nbconvert_exporter": "python",
   "pygments_lexer": "ipython3",
   "version": "3.12.3"
  }
 },
 "nbformat": 4,
 "nbformat_minor": 5
}
