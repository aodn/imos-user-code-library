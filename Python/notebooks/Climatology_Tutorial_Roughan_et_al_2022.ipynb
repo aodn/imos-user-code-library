{
 "cells": [
  {
   "cell_type": "markdown",
   "id": "3cb15327",
   "metadata": {},
   "source": [
    "# Climatology Data Products Tutorial for Roughan et al (2022)\n",
    "\n",
    "\n",
    "<br/><br/>\n",
    "\n",
    "<span style=\"color:black;font-weight:200;font-size:20px\">\n",
    "\n",
    "Tutorial created 18/06/2021 by Michael Hemming, NSW-IMOS, UNSW Sydney<br/><br/>\n",
    "Using Python version 3.8.5 (managed using Anaconda)\n",
    "<br/><br/>\n",
    "This is a jupyter notebook version of the script available here:https://figshare.com/articles/software/Data_Product_tutorials_for_Roughan_et_al_Multi-decadal_ocean_temperature_time-series_and_climatologies_from_Australia_s_long-term_National_Reference_Stations_2022_/18232691?file=32991497\n",
    " \n",
    "</span>\n",
    "\n"
   ]
  },
  {
   "cell_type": "markdown",
   "id": "88bfe015",
   "metadata": {},
   "source": [
    "## Import Packages"
   ]
  },
  {
   "cell_type": "markdown",
   "id": "0a59ecac",
   "metadata": {},
   "source": [
    " "
   ]
  },
  {
   "cell_type": "code",
   "execution_count": 1,
   "id": "e3e31d8c",
   "metadata": {},
   "outputs": [],
   "source": [
    "# load in the netCDF files\n",
    "import xarray as xr\n",
    "# for data selection\n",
    "import numpy as np\n",
    "# for saving as .csv\n",
    "import pandas as pd\n",
    "# for creating plots\n",
    "import matplotlib.pyplot as plt"
   ]
  },
  {
   "cell_type": "markdown",
   "id": "adf677cf",
   "metadata": {},
   "source": [
    "## Demonstration: Downloading files"
   ]
  },
  {
   "cell_type": "markdown",
   "id": "348ceb80",
   "metadata": {},
   "source": [
    " "
   ]
  },
  {
   "cell_type": "markdown",
   "id": "c9215c5c",
   "metadata": {},
   "source": [
    "<span style=\"color:black;font-weight:200;font-size:18px\">\n",
    "\n",
    "The netCDF files are available for download here:\n",
    "http://thredds.aodn.org.au/thredds/catalog/UNSW/NRS_climatology/Temperature_DataProducts/catalog.html\n",
    "\n",
    "For more information on the files and methodology, please see Roughan, M., et al. \"Multi-decadal ocean temperature time-series and\n",
    "climatologies from Australia's long-term National Reference Stations.\" Scientific Data (2022)\n",
    "    \n",
    "   </span>"
   ]
  },
  {
   "cell_type": "markdown",
   "id": "785e8326",
   "metadata": {},
   "source": [
    "# Citation: Use of data products"
   ]
  },
  {
   "cell_type": "markdown",
   "id": "2f328eb9",
   "metadata": {},
   "source": [
    "<span style=\"color:black;font-weight:200;font-size:18px\">\n",
    "Any and all use of the data products and code provided here must include:\n",
    "    <br/>\n",
    "\n",
    "(a) a citation to the paper:     Roughan, M., Hemming, M., Schaeffer, A. et al. Multi-decadal ocean temperature time-series and climatologies from Australia’s long-term National Reference Stations. Sci Data 9, 157 (2022). https://doi.org/10.1038/s41597-022-01224-6<br/><br/>\n",
    "(b) a reference to the data citation as written in the netCDF file attributes<br/><br/>\n",
    "(c) the following acknowledgement statement: Data was sourced from Australia's Integrated Marine Observing System (IMOS) - IMOS is enabled by the National Collaborative Research Infrastructure Strategy (NCRIS).\n",
    "    \n",
    "   </span>"
   ]
  },
  {
   "cell_type": "markdown",
   "id": "46082fa6",
   "metadata": {},
   "source": [
    "# Citation: Use of tutorial / code"
   ]
  },
  {
   "cell_type": "markdown",
   "id": "952a25d8",
   "metadata": {},
   "source": [
    "<span style=\"color:black;font-weight:200;font-size:18px\">\n",
    "    \n",
    "If you have found the code in this tutorial useful we would also appreciate citing the following: <br/>\n",
    "    \n",
    "Hemming, Michael (2022): Data Product tutorials for: Roughan et al., 'Multi-decadal ocean temperature time-series and climatologies from Australia’s long-term National Reference Stations' (2022). figshare. Software. \n",
    "        https://doi.org/10.6084/m9.figshare.18232691.v1\n",
    "</span>"
   ]
  },
  {
   "cell_type": "markdown",
   "id": "693b3fed",
   "metadata": {},
   "source": [
    "## Demonstration: loading the netCDF files"
   ]
  },
  {
   "cell_type": "code",
   "execution_count": null,
   "id": "03b94a57",
   "metadata": {},
   "outputs": [],
   "source": [
    "# define file path\n",
    "data_path = ('Add_your_path_here')\n",
    "\n",
    "# define filenames\n",
    "file_agg = 'PH100_TEMP_1953-2020_aggregated_v1.nc'\n",
    "file_grid = 'PH100_TEMP_1953-2020_gridded_v1.nc'\n",
    "file_clim = 'PH100_TEMP_1953-2020_BottleCTDMooringSatellite_climatology_v1.nc'\n",
    "# load files\n",
    "data_agg = xr.open_dataset(data_path + '\\\\' + file_agg) # aggregated file\n",
    "data_grid = xr.open_dataset(data_path + '\\\\' + file_grid) # gridded file\n",
    "data_clim = xr.open_dataset(data_path + '\\\\' + file_clim) # climatology file"
   ]
  },
  {
   "cell_type": "markdown",
   "id": "5c5c6d46",
   "metadata": {},
   "source": [
    "## Demonstration: scatter aggregated data over time and depth, colored by platform type "
   ]
  },
  {
   "cell_type": "code",
   "execution_count": null,
   "id": "3a2e740d",
   "metadata": {},
   "outputs": [],
   "source": [
    "t = np.array(data_agg.TIME)\n",
    "D = np.array(data_agg.DEPTH_AGG)\n",
    "\n",
    "fig = plt.figure()\n",
    "# bottle\n",
    "c = data_agg.TEMP_DATA_PLATFORM_AGG == 1\n",
    "plt.scatter(x=t[c], y=D[c],s=1,marker='o')\n",
    "# CTD\n",
    "c = data_agg.TEMP_DATA_PLATFORM_AGG == 2\n",
    "plt.scatter(x=t[c], y=D[c],s=1,marker='o')\n",
    "# Mooring\n",
    "c = data_agg.TEMP_DATA_PLATFORM_AGG == 3\n",
    "plt.scatter(x=t[c], y=D[c],s=1,marker='o')\n",
    "# Satellite\n",
    "c = data_agg.TEMP_DATA_PLATFORM_AGG == 4\n",
    "plt.scatter(x=t[c], y=D[c],s=1,marker='o')\n",
    "# plot properties and legend\n",
    "plt.gca().invert_yaxis()\n",
    "plt.ylabel('Depth [m]')\n",
    "plt.title('Demonstration: Port Hacking Aggregated Data')\n",
    "plt.legend(['Bottle','CTD','Mooring','Satellite'],loc='lower left',\n",
    "           fontsize=8,ncol=2)"
   ]
  },
  {
   "cell_type": "code",
   "execution_count": null,
   "id": "fd89c6d1",
   "metadata": {},
   "outputs": [],
   "source": [
    "# You can save using the following:\n",
    "plt.savefig(fname,dpi=300)\n",
    "# If you want to explore the data more closely, use %matplotlib qt to enable plot pop-up. Use\n",
    "# %matplotlib inline to revert back"
   ]
  },
  {
   "cell_type": "markdown",
   "id": "26e84c50",
   "metadata": {},
   "source": [
    "## Demonstration: Compare gridded temperature data at the surface, 20 m, 50 m, 75 m and 90 m over the last 10 years"
   ]
  },
  {
   "cell_type": "code",
   "execution_count": null,
   "id": "87ecf9ad",
   "metadata": {},
   "outputs": [],
   "source": [
    "ax = plt.plot()\n",
    "ctime = data_grid.TIME >= np.datetime64('2010-01-01')\n",
    "t = np.array(data_grid.TIME[ctime])\n",
    "plt.scatter(t,data_grid.TEMP_GRID[1,ctime],s=2) # surface\n",
    "plt.scatter(t,data_grid.TEMP_GRID[21,ctime],s=2) # 20 m\n",
    "plt.scatter(t,data_grid.TEMP_GRID[51,ctime],s=2) # 50 m\n",
    "plt.scatter(t,data_grid.TEMP_GRID[76,ctime],s=2) # 75 m\n",
    "plt.scatter(t,data_grid.TEMP_GRID[91,ctime],s=2) # 90 m\n",
    "# plot properties and legend\n",
    "plt.ylabel('Temperature [deg C]')\n",
    "plt.title('Demonstration: Port Hacking Gridded Data')\n",
    "plt.ylim(top=29)\n",
    "plt.legend(['surf','20 m','50 m','75 m','90 m'],loc='upper left',\n",
    "           ncol = 5,fontsize=8)"
   ]
  },
  {
   "cell_type": "code",
   "execution_count": null,
   "id": "be39dc91",
   "metadata": {},
   "outputs": [],
   "source": [
    "# You can save using the following:\n",
    "plt.savefig(fname,dpi=300)\n",
    "# If you want to explore the data more closely, use %matplotlib qt to enable plot pop-up. Use\n",
    "# %matplotlib inline to revert back"
   ]
  },
  {
   "cell_type": "markdown",
   "id": "49ea3b4f",
   "metadata": {},
   "source": [
    "## Demonstration: plot mean climatologies over depth"
   ]
  },
  {
   "cell_type": "code",
   "execution_count": null,
   "id": "03e4e2af",
   "metadata": {},
   "outputs": [],
   "source": [
    "fig, ax = plt.subplots()\n",
    "# loop through depths to plot climatology means\n",
    "for depth in range(0,len(data_clim.TEMP_AVE)):\n",
    "    depth_lab = str(np.int32(data_clim.DEPTH[depth])) + ' m'\n",
    "    plt.plot(data_clim.TIME,data_clim.TEMP_AVE[depth,:],label=depth_lab)\n",
    "# plot properties and legend\n",
    "plt.ylabel('Temperature [deg C]')\n",
    "plt.title('Demonstration: Port Hacking Mean climatology')\n",
    "plt.legend(loc='upper left', ncol = 5,fontsize=8,\n",
    "           bbox_to_anchor=(0, 1.0), borderpad=.5)\n",
    "plt.ylim(top=25)\n",
    "plt.grid(axis='x');\n",
    "plt.xlim(left=np.datetime64('1953-01-01'),\n",
    "                             right=np.datetime64('1954-01-01'))\n",
    "# convert xticks to month strings\n",
    "# define xticks and labels\n",
    "xticks = [np.datetime64('1953-01-01'),np.datetime64('1953-02-01'),\n",
    "          np.datetime64('1953-03-01'),np.datetime64('1953-04-01'),\n",
    "          np.datetime64('1953-05-01'),np.datetime64('1953-06-01'),\n",
    "          np.datetime64('1953-07-01'),np.datetime64('1953-08-01'),\n",
    "          np.datetime64('1953-09-01'),np.datetime64('1953-10-01'),\n",
    "          np.datetime64('1953-11-01'),np.datetime64('1953-12-01'),\n",
    "          np.datetime64('1954-01-01')]\n",
    "xticklabels = ['Jan','Feb','Mar','Apr','May','Jun','Jul',\n",
    "            'Aug','Sep','Oct','Nov','Dec','Jan']\n",
    "# set xticks and labels\n",
    "ax.set_xticks(xticks)\n",
    "ax.set_xticklabels(xticklabels)"
   ]
  },
  {
   "cell_type": "code",
   "execution_count": null,
   "id": "1d09b238",
   "metadata": {},
   "outputs": [],
   "source": [
    "# You can save using the following:\n",
    "plt.savefig(fname,dpi=300)\n",
    "# If you want to explore the data more closely, use %matplotlib qt to enable plot pop-up. Use\n",
    "# %matplotlib inline to revert back"
   ]
  },
  {
   "cell_type": "markdown",
   "id": "1afca6f7",
   "metadata": {},
   "source": [
    "## Demonstration: export data as CSV files"
   ]
  },
  {
   "cell_type": "code",
   "execution_count": null,
   "id": "9f439315",
   "metadata": {},
   "outputs": [],
   "source": [
    "# exporting the climatology mean, 10th and 90th percentiles\n",
    "# creating Pandas dataframe for saving\n",
    "clim = np.transpose(np.vstack((data_clim.TEMP_AVE,\n",
    "                               data_clim.TEMP_PER10,\n",
    "                               data_clim.TEMP_PER90)))\n",
    "column_names =  ['AVE 2m','AVE 10m','AVE 20m','AVE 30m','AVE 40m',\n",
    "                'AVE 50m','AVE 60m','AVE 75m','AVE 99m',\n",
    "                'PER10 2m','PER10 10m','PER10 20m','PER10 30m','PER10 40m',\n",
    "                'PER10 50m','PER10 60m','PER10 75m','PER10 99m',\n",
    "                'PER90 2m','PER90 10m','PER90 20m','PER90 30m','PER90 40m',\n",
    "                'PER90 50m','PER90 60m','PER90 75m','PER90 99m',]\n",
    "clim = pd.DataFrame(clim, columns = column_names)\n",
    "\n",
    "# define saving location\n",
    "saving_path = ('TO UPDATE')\n",
    "# export data as .csv\n",
    "clim.to_csv(saving_path + 'climatology.csv')"
   ]
  }
 ],
 "metadata": {
  "kernelspec": {
   "display_name": "Python 3 (ipykernel)",
   "language": "python",
   "name": "python3"
  },
  "language_info": {
   "codemirror_mode": {
    "name": "ipython",
    "version": 3
   },
   "file_extension": ".py",
   "mimetype": "text/x-python",
   "name": "python",
   "nbconvert_exporter": "python",
   "pygments_lexer": "ipython3",
   "version": "3.9.7"
  }
 },
 "nbformat": 4,
 "nbformat_minor": 5
}
